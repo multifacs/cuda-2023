{
  "cells": [
    {
      "cell_type": "code",
      "execution_count": null,
      "metadata": {
        "colab": {
          "base_uri": "https://localhost:8080/"
        },
        "id": "BTiHqA53cUxD",
        "outputId": "5433e787-21d9-4943-9c23-ccb6e93b267b"
      },
      "outputs": [
        {
          "name": "stdout",
          "output_type": "stream",
          "text": [
            "Saxpy Type Float\n",
            "Sequential: 1951ms\n",
            "OpenMP: 1793ms\n",
            "OpenGL: 22ms  size: 8\n",
            "OpenGL: 22ms  size: 16\n",
            "OpenGL: 23ms  size: 32\n",
            "OpenGL: 25ms  size: 64\n",
            "OpenGL: 25ms  size: 128\n",
            "\n",
            "Daxpy Type Double\n",
            "Sequential: 4122ms\n",
            "OpenMP: 3708ms\n",
            "OpenGL: 31ms  size: 8\n",
            "OpenGL: 37ms  size: 16\n",
            "OpenGL: 41ms  size: 32\n",
            "OpenGL: 43ms  size: 64\n",
            "OpenGL: 43ms  size: 128\n"
          ]
        },
        {
          "data": {
            "text/plain": []
          },
          "execution_count": 4,
          "metadata": {},
          "output_type": "execute_result"
        }
      ],
      "source": [
        "%%shell\n",
        "\n",
        "nvcc cuda2.cu -Xcompiler -fopenmp -o out\n",
        "./out"
      ]
    }
  ],
  "metadata": {
    "accelerator": "GPU",
    "colab": {
      "gpuType": "T4",
      "provenance": []
    },
    "kernelspec": {
      "display_name": "Python 3",
      "name": "python3"
    },
    "language_info": {
      "name": "python"
    }
  },
  "nbformat": 4,
  "nbformat_minor": 0
}
